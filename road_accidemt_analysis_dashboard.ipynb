{
 "cells": [
  {
   "cell_type": "code",
   "execution_count": 1,
   "id": "810dd64c",
   "metadata": {},
   "outputs": [],
   "source": [
    "import pandas as pd\n",
    "import matplotlib.pyplot as plt"
   ]
  },
  {
   "cell_type": "code",
   "execution_count": 2,
   "id": "0ab60f7d",
   "metadata": {},
   "outputs": [
    {
     "data": {
      "application/vnd.microsoft.datawrangler.viewer.v0+json": {
       "columns": [
        {
         "name": "index",
         "rawType": "int64",
         "type": "integer"
        },
        {
         "name": "Accident_Index",
         "rawType": "object",
         "type": "string"
        },
        {
         "name": "Accident Date",
         "rawType": "datetime64[ns]",
         "type": "datetime"
        },
        {
         "name": "Day_of_Week",
         "rawType": "object",
         "type": "string"
        },
        {
         "name": "Junction_Control",
         "rawType": "object",
         "type": "string"
        },
        {
         "name": "Junction_Detail",
         "rawType": "object",
         "type": "string"
        },
        {
         "name": "Accident_Severity",
         "rawType": "object",
         "type": "string"
        },
        {
         "name": "Latitude",
         "rawType": "float64",
         "type": "float"
        },
        {
         "name": "Light_Conditions",
         "rawType": "object",
         "type": "string"
        },
        {
         "name": "Local_Authority_(District)",
         "rawType": "object",
         "type": "string"
        },
        {
         "name": "Carriageway_Hazards",
         "rawType": "object",
         "type": "unknown"
        },
        {
         "name": "Longitude",
         "rawType": "float64",
         "type": "float"
        },
        {
         "name": "Number_of_Casualties",
         "rawType": "int64",
         "type": "integer"
        },
        {
         "name": "Number_of_Vehicles",
         "rawType": "int64",
         "type": "integer"
        },
        {
         "name": "Police_Force",
         "rawType": "object",
         "type": "string"
        },
        {
         "name": "Road_Surface_Conditions",
         "rawType": "object",
         "type": "string"
        },
        {
         "name": "Road_Type",
         "rawType": "object",
         "type": "string"
        },
        {
         "name": "Speed_limit",
         "rawType": "int64",
         "type": "integer"
        },
        {
         "name": "Time",
         "rawType": "object",
         "type": "unknown"
        },
        {
         "name": "Urban_or_Rural_Area",
         "rawType": "object",
         "type": "string"
        },
        {
         "name": "Weather_Conditions",
         "rawType": "object",
         "type": "string"
        },
        {
         "name": "Vehicle_Type",
         "rawType": "object",
         "type": "string"
        }
       ],
       "ref": "b487e7e4-be02-497f-865e-f64087adfbc5",
       "rows": [
        [
         "0",
         "BS0000001",
         "2021-01-01 00:00:00",
         "Thursday",
         "Give way or uncontrolled",
         "T or staggered junction",
         "Serious",
         "51.512273",
         "Daylight",
         "Kensington and Chelsea",
         null,
         "-0.201349",
         "1",
         "2",
         "Metropolitan Police",
         "Dry",
         "One way street",
         "30",
         "15:11:00",
         "Urban",
         "Fine no high winds",
         "Car"
        ],
        [
         "1",
         "BS0000002",
         "2021-01-05 00:00:00",
         "Monday",
         "Give way or uncontrolled",
         "Crossroads",
         "Serious",
         "51.514399",
         "Daylight",
         "Kensington and Chelsea",
         null,
         "-0.199248",
         "11",
         "2",
         "Metropolitan Police",
         "Wet or damp",
         "Single carriageway",
         "30",
         "10:59:00",
         "Urban",
         "Fine no high winds",
         "Taxi/Private hire car"
        ],
        [
         "2",
         "BS0000003",
         "2021-01-04 00:00:00",
         "Sunday",
         "Give way or uncontrolled",
         "T or staggered junction",
         "Slight",
         "51.486668",
         "Daylight",
         "Kensington and Chelsea",
         null,
         "-0.179599",
         "1",
         "2",
         "Metropolitan Police",
         "Dry",
         "Single carriageway",
         "30",
         "14:19:00",
         "Urban",
         "Fine no high winds",
         "Taxi/Private hire car"
        ],
        [
         "3",
         "BS0000004",
         "2021-01-05 00:00:00",
         "Monday",
         "Auto traffic signal",
         "T or staggered junction",
         "Serious",
         "51.507804",
         "Daylight",
         "Kensington and Chelsea",
         null,
         "-0.20311",
         "1",
         "2",
         "Metropolitan Police",
         "Frost or ice",
         "Single carriageway",
         "30",
         "08:10:00",
         "Urban",
         "Other",
         "Motorcycle over 500cc"
        ],
        [
         "4",
         "BS0000005",
         "2021-01-06 00:00:00",
         "Tuesday",
         "Auto traffic signal",
         "Crossroads",
         "Serious",
         "51.482076",
         "Darkness - lights lit",
         "Kensington and Chelsea",
         null,
         "-0.173445",
         "1",
         "2",
         "Metropolitan Police",
         "Dry",
         "Single carriageway",
         "30",
         "17:25:00",
         "Urban",
         "Fine no high winds",
         "Car"
        ],
        [
         "5",
         "BS0000006",
         "2021-01-01 00:00:00",
         "Thursday",
         "Give way or uncontrolled",
         "T or staggered junction",
         "Slight",
         "51.493415",
         "Daylight",
         "Kensington and Chelsea",
         null,
         "-0.185525",
         "3",
         "2",
         "Metropolitan Police",
         "Dry",
         "Single carriageway",
         "30",
         "11:48:00",
         "Urban",
         "Fine no high winds",
         "Car"
        ],
        [
         "6",
         "BS0000007",
         "2021-01-08 00:00:00",
         "Thursday",
         "Give way or uncontrolled",
         "T or staggered junction",
         "Serious",
         "51.480177",
         "Daylight",
         "Kensington and Chelsea",
         null,
         "-0.178561",
         "1",
         "2",
         "Metropolitan Police",
         "Dry",
         "Single carriageway",
         "30",
         "13:58:00",
         "Urban",
         "Fine no high winds",
         "Motorcycle over 500cc"
        ],
        [
         "7",
         "BS0000008",
         "2021-01-02 00:00:00",
         "Friday",
         "Auto traffic signal",
         "Crossroads",
         "Slight",
         "51.491957",
         "Daylight",
         "Kensington and Chelsea",
         null,
         "-0.178524",
         "1",
         "1",
         "Metropolitan Police",
         "Dry",
         "Dual carriageway",
         "30",
         "13:18:00",
         "Urban",
         "Fine no high winds",
         "Car"
        ],
        [
         "8",
         "BS0000009",
         "2021-01-07 00:00:00",
         "Wednesday",
         "Give way or uncontrolled",
         "T or staggered junction",
         "Slight",
         "51.49646",
         "Daylight",
         "Kensington and Chelsea",
         null,
         "-0.167395",
         "2",
         "1",
         "Metropolitan Police",
         "Dry",
         "Single carriageway",
         "30",
         "12:15:00",
         "Urban",
         "Fine no high winds",
         "Van / Goods 3.5 tonnes mgw or under"
        ],
        [
         "9",
         "BS0000010",
         "2021-01-10 00:00:00",
         "Saturday",
         "Auto traffic signal",
         "Crossroads",
         "Slight",
         "51.48115",
         "Daylight",
         "Kensington and Chelsea",
         null,
         "-0.183275",
         "1",
         "1",
         "Metropolitan Police",
         "Wet or damp",
         "Single carriageway",
         "30",
         "09:52:00",
         "Urban",
         "Other",
         "Car"
        ],
        [
         "10",
         "BS0000011",
         "2021-01-07 00:00:00",
         "Wednesday",
         "Auto traffic signal",
         "Crossroads",
         "Slight",
         "51.482076",
         "Darkness - lights lit",
         "Kensington and Chelsea",
         null,
         "-0.173445",
         "1",
         "2",
         "Metropolitan Police",
         "Dry",
         "Single carriageway",
         "30",
         "00:09:00",
         "Urban",
         "Fine no high winds",
         "Car"
        ],
        [
         "11",
         "BS0000012",
         "2021-01-16 00:00:00",
         "Friday",
         "Auto traffic signal",
         "Crossroads",
         "Slight",
         "51.494995",
         "Darkness - lights lit",
         "Kensington and Chelsea",
         null,
         "-0.183013",
         "1",
         "1",
         "Metropolitan Police",
         "Dry",
         "Single carriageway",
         "30",
         "17:49:00",
         "Urban",
         "Fine no high winds",
         "Car"
        ],
        [
         "12",
         "BS0000013",
         "2021-01-12 00:00:00",
         "Monday",
         "Data missing or out of range",
         "Not at junction or within 20 metres",
         "Slight",
         "51.498778",
         "Daylight",
         "Kensington and Chelsea",
         null,
         "-0.206779",
         "1",
         "2",
         "Metropolitan Police",
         "Wet or damp",
         "Single carriageway",
         "30",
         "14:00:00",
         "Urban",
         "Raining no high winds",
         "Car"
        ],
        [
         "13",
         "BS0000014",
         "2021-01-09 00:00:00",
         "Friday",
         "Give way or uncontrolled",
         "T or staggered junction",
         "Slight",
         "51.506187",
         "Daylight",
         "Kensington and Chelsea",
         null,
         "-0.209082",
         "1",
         "2",
         "Metropolitan Police",
         "Wet or damp",
         "Single carriageway",
         "30",
         "08:15:00",
         "Urban",
         "Raining no high winds",
         "Car"
        ],
        [
         "14",
         "BS0000015",
         "2021-01-17 00:00:00",
         "Saturday",
         "Give way or uncontrolled",
         "T or staggered junction",
         "Slight",
         "51.493077",
         "Daylight",
         "Kensington and Chelsea",
         null,
         "-0.169548",
         "1",
         "2",
         "Metropolitan Police",
         "Dry",
         "Single carriageway",
         "30",
         "12:15:00",
         "Urban",
         "Fine no high winds",
         "Car"
        ],
        [
         "15",
         "BS0000016",
         "2021-01-25 00:00:00",
         "Sunday",
         "Auto traffic signal",
         "Crossroads",
         "Serious",
         "51.482076",
         "Darkness - lights lit",
         "Kensington and Chelsea",
         null,
         "-0.173445",
         "1",
         "2",
         "Metropolitan Police",
         "Dry",
         "Single carriageway",
         "30",
         "22:05:00",
         "Urban",
         "Fine no high winds",
         "Car"
        ],
        [
         "16",
         "BS0000017",
         "2021-01-26 00:00:00",
         "Monday",
         "Give way or uncontrolled",
         "Crossroads",
         "Slight",
         "51.488673",
         "Darkness - lights lit",
         "Kensington and Chelsea",
         null,
         "-0.169724",
         "1",
         "2",
         "Metropolitan Police",
         "Dry",
         "Single carriageway",
         "30",
         "17:30:00",
         "Urban",
         "Fine no high winds",
         "Van / Goods 3.5 tonnes mgw or under"
        ],
        [
         "17",
         "BS0000018",
         "2021-01-26 00:00:00",
         "Monday",
         "Data missing or out of range",
         "Not at junction or within 20 metres",
         "Slight",
         "51.482363",
         "Darkness - lights lit",
         "Kensington and Chelsea",
         null,
         "-0.186108",
         "1",
         "1",
         "Metropolitan Police",
         "Dry",
         "Single carriageway",
         "30",
         "17:05:00",
         "Urban",
         "Fine no high winds",
         "Car"
        ],
        [
         "18",
         "BS0000019",
         "2021-01-19 00:00:00",
         "Monday",
         "Give way or uncontrolled",
         "T or staggered junction",
         "Slight",
         "51.49391",
         "Daylight",
         "Kensington and Chelsea",
         null,
         "-0.176861",
         "1",
         "2",
         "Metropolitan Police",
         "Wet or damp",
         "Single carriageway",
         "30",
         "14:27:00",
         "Urban",
         "Fine no high winds",
         "Car"
        ],
        [
         "19",
         "BS0000020",
         "2021-01-27 00:00:00",
         "Tuesday",
         "Data missing or out of range",
         "Not at junction or within 20 metres",
         "Slight",
         "51.509296",
         "Darkness - lights lit",
         "Kensington and Chelsea",
         null,
         "-0.194837",
         "1",
         "1",
         "Metropolitan Police",
         "Dry",
         "Single carriageway",
         "30",
         "00:28:00",
         "Urban",
         "Fine no high winds",
         "Car"
        ],
        [
         "20",
         "BS0000021",
         "2021-01-21 00:00:00",
         "Wednesday",
         "Give way or uncontrolled",
         "T or staggered junction",
         "Slight",
         "51.50228",
         "Darkness - lights lit",
         "Kensington and Chelsea",
         null,
         "-0.188919",
         "1",
         "1",
         "Metropolitan Police",
         "Wet or damp",
         "Single carriageway",
         "30",
         "23:15:00",
         "Urban",
         "Raining no high winds",
         "Car"
        ],
        [
         "21",
         "BS0000022",
         "2021-01-22 00:00:00",
         "Thursday",
         "Give way or uncontrolled",
         "T or staggered junction",
         "Slight",
         "51.507588",
         "Darkness - lights lit",
         "Kensington and Chelsea",
         null,
         "-0.194905",
         "1",
         "1",
         "Metropolitan Police",
         "Wet or damp",
         "Single carriageway",
         "30",
         "23:15:00",
         "Urban",
         "Raining no high winds",
         "Car"
        ],
        [
         "22",
         "BS0000023",
         "2021-01-31 00:00:00",
         "Saturday",
         "Auto traffic signal",
         "Crossroads",
         "Serious",
         "51.488585",
         "Daylight",
         "Kensington and Chelsea",
         null,
         "-0.193063",
         "2",
         "2",
         "Metropolitan Police",
         "Dry",
         "Single carriageway",
         "30",
         "14:20:00",
         "Urban",
         "Fine no high winds",
         "Car"
        ],
        [
         "23",
         "BS0000024",
         "2021-02-03 00:00:00",
         "Tuesday",
         "Give way or uncontrolled",
         "T or staggered junction",
         "Slight",
         "51.528344",
         "Daylight",
         "Kensington and Chelsea",
         null,
         "-0.217295",
         "1",
         "2",
         "Metropolitan Police",
         "Snow",
         "Single carriageway",
         "30",
         "13:25:00",
         "Urban",
         "Other",
         "Car"
        ],
        [
         "24",
         "BS0000025",
         "2021-01-31 00:00:00",
         "Saturday",
         "Give way or uncontrolled",
         "T or staggered junction",
         "Slight",
         "51.499201",
         "Darkness - lights lit",
         "Kensington and Chelsea",
         null,
         "-0.164404",
         "2",
         "2",
         "Metropolitan Police",
         "Dry",
         "Single carriageway",
         "30",
         "22:30:00",
         "Urban",
         "Fine no high winds",
         "Car"
        ],
        [
         "25",
         "BS0000026",
         "2021-01-31 00:00:00",
         "Saturday",
         "Give way or uncontrolled",
         "T or staggered junction",
         "Serious",
         "51.517081",
         "Daylight",
         "Kensington and Chelsea",
         null,
         "-0.204042",
         "2",
         "1",
         "Metropolitan Police",
         "Dry",
         "Single carriageway",
         "30",
         "13:50:00",
         "Urban",
         "Fine no high winds",
         "Car"
        ],
        [
         "26",
         "BS0000027",
         "2021-01-29 00:00:00",
         "Thursday",
         "Auto traffic signal",
         "Crossroads",
         "Slight",
         "51.48944",
         "Daylight",
         "Kensington and Chelsea",
         null,
         "-0.190148",
         "1",
         "1",
         "Metropolitan Police",
         "Dry",
         "Single carriageway",
         "30",
         "08:20:00",
         "Urban",
         "Fine no high winds",
         "Car"
        ],
        [
         "27",
         "BS0000028",
         "2021-01-31 00:00:00",
         "Saturday",
         "Give way or uncontrolled",
         "Crossroads",
         "Slight",
         "51.494521",
         "Daylight",
         "Kensington and Chelsea",
         null,
         "-0.158397",
         "1",
         "2",
         "Metropolitan Police",
         "Dry",
         "Single carriageway",
         "20",
         "12:03:00",
         "Urban",
         "Fine no high winds",
         "Car"
        ],
        [
         "28",
         "BS0000029",
         "2021-01-29 00:00:00",
         "Thursday",
         "Auto traffic signal",
         "Crossroads",
         "Slight",
         "51.508624",
         "Daylight",
         "Kensington and Chelsea",
         null,
         "-0.203799",
         "1",
         "2",
         "Metropolitan Police",
         "Dry",
         "Single carriageway",
         "30",
         "15:50:00",
         "Urban",
         "Fine no high winds",
         "Car"
        ],
        [
         "29",
         "BS0000030",
         "2021-01-31 00:00:00",
         "Saturday",
         "Auto traffic signal",
         "Crossroads",
         "Slight",
         "51.491173",
         "Darkness - lights lit",
         "Kensington and Chelsea",
         null,
         "-0.18014",
         "1",
         "2",
         "Metropolitan Police",
         "Wet or damp",
         "Single carriageway",
         "30",
         "01:01:00",
         "Urban",
         "Fine no high winds",
         "Car"
        ],
        [
         "30",
         "BS0000031",
         "2021-01-28 00:00:00",
         "Wednesday",
         "Give way or uncontrolled",
         "T or staggered junction",
         "Slight",
         "51.495478",
         "Daylight",
         "Kensington and Chelsea",
         null,
         "-0.202731",
         "1",
         "1",
         "Metropolitan Police",
         "Wet or damp",
         "One way street",
         "30",
         "07:45:00",
         "Urban",
         "Raining no high winds",
         "Car"
        ],
        [
         "31",
         "BS0000032",
         "2021-01-27 00:00:00",
         "Tuesday",
         "Auto traffic signal",
         "Crossroads",
         "Serious",
         "51.495658",
         "Daylight",
         "Kensington and Chelsea",
         null,
         "-0.173622",
         "1",
         "2",
         "Metropolitan Police",
         "Dry",
         "Single carriageway",
         "30",
         "12:30:00",
         "Urban",
         "Fine no high winds",
         "Car"
        ],
        [
         "32",
         "BS0000033",
         "2021-01-31 00:00:00",
         "Saturday",
         "Give way or uncontrolled",
         "T or staggered junction",
         "Slight",
         "51.499727",
         "Daylight",
         "Kensington and Chelsea",
         null,
         "-0.163518",
         "1",
         "2",
         "Metropolitan Police",
         "Dry",
         "Dual carriageway",
         "30",
         "10:08:00",
         "Urban",
         "Fine no high winds",
         "Car"
        ],
        [
         "33",
         "BS0000034",
         "2021-01-22 00:00:00",
         "Thursday",
         "Give way or uncontrolled",
         "T or staggered junction",
         "Slight",
         "51.507802",
         "Darkness - lights lit",
         "Kensington and Chelsea",
         null,
         "-0.202966",
         "1",
         "2",
         "Metropolitan Police",
         "Wet or damp",
         "Single carriageway",
         "30",
         "16:19:00",
         "Urban",
         "Fine no high winds",
         "Car"
        ],
        [
         "34",
         "BS0000035",
         "2021-01-29 00:00:00",
         "Thursday",
         "Auto traffic signal",
         "T or staggered junction",
         "Slight",
         "51.508972",
         "Darkness - lights lit",
         "Kensington and Chelsea",
         null,
         "-0.197156",
         "1",
         "1",
         "Metropolitan Police",
         "Dry",
         "Single carriageway",
         "30",
         "20:35:00",
         "Urban",
         "Fine no high winds",
         "Car"
        ],
        [
         "35",
         "BS0000036",
         "2021-01-20 00:00:00",
         "Tuesday",
         "Auto traffic signal",
         "T or staggered junction",
         "Slight",
         "51.513036",
         "Daylight",
         "Kensington and Chelsea",
         null,
         "-0.204201",
         "1",
         "1",
         "Metropolitan Police",
         "Dry",
         "Single carriageway",
         "30",
         "13:27:00",
         "Urban",
         "Fine no high winds",
         "Car"
        ],
        [
         "36",
         "BS0000037",
         "2021-01-17 00:00:00",
         "Saturday",
         "Give way or uncontrolled",
         "Crossroads",
         "Slight",
         "51.512443",
         "Daylight",
         "Kensington and Chelsea",
         null,
         "-0.206531",
         "1",
         "2",
         "Metropolitan Police",
         "Wet or damp",
         "Single carriageway",
         "30",
         "11:00:00",
         "Urban",
         "Fine no high winds",
         "Van / Goods 3.5 tonnes mgw or under"
        ],
        [
         "37",
         "BS0000038",
         "2021-01-15 00:00:00",
         "Thursday",
         "Give way or uncontrolled",
         "T or staggered junction",
         "Serious",
         "51.491908",
         "Daylight",
         "Kensington and Chelsea",
         null,
         "-0.192787",
         "1",
         "1",
         "Metropolitan Police",
         "Dry",
         "Single carriageway",
         "30",
         "11:30:00",
         "Urban",
         "Fine no high winds",
         "Car"
        ],
        [
         "38",
         "BS0000039",
         "2021-02-09 00:00:00",
         "Monday",
         "Data missing or out of range",
         "Not at junction or within 20 metres",
         "Slight",
         "51.497811",
         "Daylight",
         "Kensington and Chelsea",
         null,
         "-0.202351",
         "1",
         "2",
         "Metropolitan Police",
         "Wet or damp",
         "Single carriageway",
         "30",
         "09:15:00",
         "Urban",
         "Raining no high winds",
         "Car"
        ],
        [
         "39",
         "BS0000040",
         "2021-01-28 00:00:00",
         "Wednesday",
         "Give way or uncontrolled",
         "T or staggered junction",
         "Slight",
         "51.486273",
         "Daylight",
         "Kensington and Chelsea",
         null,
         "-0.171549",
         "1",
         "2",
         "Metropolitan Police",
         "Wet or damp",
         "Single carriageway",
         "30",
         "11:15:00",
         "Urban",
         "Raining no high winds",
         "Car"
        ],
        [
         "40",
         "BS0000041",
         "2021-01-23 00:00:00",
         "Friday",
         "Data missing or out of range",
         "Not at junction or within 20 metres",
         "Slight",
         "51.500738",
         "Daylight",
         "Kensington and Chelsea",
         null,
         "-0.193879",
         "2",
         "1",
         "Metropolitan Police",
         "Wet or damp",
         "Single carriageway",
         "30",
         "11:15:00",
         "Urban",
         "Fine no high winds",
         "Car"
        ],
        [
         "41",
         "BS0000042",
         "2021-01-26 00:00:00",
         "Monday",
         "Give way or uncontrolled",
         "T or staggered junction",
         "Slight",
         "51.50012",
         "Daylight",
         "Kensington and Chelsea",
         null,
         "-0.1599",
         "1",
         "2",
         "Metropolitan Police",
         "Dry",
         "Single carriageway",
         "30",
         "14:40:00",
         "Urban",
         "Fine no high winds",
         "Car"
        ],
        [
         "42",
         "BS0000043",
         "2021-02-03 00:00:00",
         "Tuesday",
         "Give way or uncontrolled",
         "T or staggered junction",
         "Slight",
         "51.49209",
         "Daylight",
         "Kensington and Chelsea",
         null,
         "-0.192924",
         "1",
         "1",
         "Metropolitan Police",
         "Dry",
         "One way street",
         "30",
         "09:58:00",
         "Urban",
         "Fine no high winds",
         "Car"
        ],
        [
         "43",
         "BS0000044",
         "2021-02-10 00:00:00",
         "Tuesday",
         "Give way or uncontrolled",
         "T or staggered junction",
         "Slight",
         "51.49105",
         "Daylight",
         "Kensington and Chelsea",
         null,
         "-0.160698",
         "1",
         "2",
         "Metropolitan Police",
         "Wet or damp",
         "One way street",
         "30",
         "08:10:00",
         "Urban",
         "Fine no high winds",
         "Car"
        ],
        [
         "44",
         "BS0000045",
         "2021-01-30 00:00:00",
         "Friday",
         "Auto traffic signal",
         "Roundabout",
         "Slight",
         "51.504672",
         "Daylight",
         "Hammersmith and Fulham",
         null,
         "-0.215914",
         "1",
         "2",
         "Metropolitan Police",
         "Dry",
         "Dual carriageway",
         "30",
         "08:28:00",
         "Urban",
         "Fine no high winds",
         "Goods over 3.5t. and under 7.5t"
        ],
        [
         "45",
         "BS0000046",
         "2021-01-28 00:00:00",
         "Wednesday",
         "Data missing or out of range",
         "Not at junction or within 20 metres",
         "Slight",
         "51.506379",
         "Darkness - lights lit",
         "Kensington and Chelsea",
         null,
         "-0.204031",
         "1",
         "2",
         "Metropolitan Police",
         "Wet or damp",
         "Single carriageway",
         "30",
         "19:53:00",
         "Urban",
         "Raining no high winds",
         "Car"
        ],
        [
         "46",
         "BS0000047",
         "2021-01-29 00:00:00",
         "Thursday",
         "Give way or uncontrolled",
         "T or staggered junction",
         "Slight",
         "51.480175",
         "Daylight",
         "Kensington and Chelsea",
         null,
         "-0.178417",
         "1",
         "2",
         "Metropolitan Police",
         "Dry",
         "Single carriageway",
         "30",
         "14:05:00",
         "Urban",
         "Fine no high winds",
         "Motorcycle 125cc and under"
        ],
        [
         "47",
         "BS0000048",
         "2021-02-10 00:00:00",
         "Tuesday",
         "Data missing or out of range",
         "Not at junction or within 20 metres",
         "Serious",
         "51.491836",
         "Darkness - lights lit",
         "Kensington and Chelsea",
         null,
         "-0.159225",
         "1",
         "1",
         "Metropolitan Police",
         "Dry",
         "Single carriageway",
         "30",
         "23:55:00",
         "Urban",
         "Fine no high winds",
         "Car"
        ],
        [
         "48",
         "BS0000049",
         "2021-02-10 00:00:00",
         "Tuesday",
         "Auto traffic signal",
         "Crossroads",
         "Slight",
         "51.516717",
         "Daylight",
         "Kensington and Chelsea",
         null,
         "-0.209678",
         "1",
         "1",
         "Metropolitan Police",
         "Wet or damp",
         "Single carriageway",
         "30",
         "08:35:00",
         "Urban",
         "Fine no high winds",
         "Car"
        ],
        [
         "49",
         "BS0000050",
         "2021-02-12 00:00:00",
         "Thursday",
         "Data missing or out of range",
         "Not at junction or within 20 metres",
         "Slight",
         "51.490115",
         "Daylight",
         "Kensington and Chelsea",
         null,
         "-0.193146",
         "1",
         "2",
         "Metropolitan Police",
         "Dry",
         "Single carriageway",
         "30",
         "07:53:00",
         "Urban",
         "Fine no high winds",
         "Car"
        ]
       ],
       "shape": {
        "columns": 21,
        "rows": 307973
       }
      },
      "text/html": [
       "<div>\n",
       "<style scoped>\n",
       "    .dataframe tbody tr th:only-of-type {\n",
       "        vertical-align: middle;\n",
       "    }\n",
       "\n",
       "    .dataframe tbody tr th {\n",
       "        vertical-align: top;\n",
       "    }\n",
       "\n",
       "    .dataframe thead th {\n",
       "        text-align: right;\n",
       "    }\n",
       "</style>\n",
       "<table border=\"1\" class=\"dataframe\">\n",
       "  <thead>\n",
       "    <tr style=\"text-align: right;\">\n",
       "      <th></th>\n",
       "      <th>Accident_Index</th>\n",
       "      <th>Accident Date</th>\n",
       "      <th>Day_of_Week</th>\n",
       "      <th>Junction_Control</th>\n",
       "      <th>Junction_Detail</th>\n",
       "      <th>Accident_Severity</th>\n",
       "      <th>Latitude</th>\n",
       "      <th>Light_Conditions</th>\n",
       "      <th>Local_Authority_(District)</th>\n",
       "      <th>Carriageway_Hazards</th>\n",
       "      <th>...</th>\n",
       "      <th>Number_of_Casualties</th>\n",
       "      <th>Number_of_Vehicles</th>\n",
       "      <th>Police_Force</th>\n",
       "      <th>Road_Surface_Conditions</th>\n",
       "      <th>Road_Type</th>\n",
       "      <th>Speed_limit</th>\n",
       "      <th>Time</th>\n",
       "      <th>Urban_or_Rural_Area</th>\n",
       "      <th>Weather_Conditions</th>\n",
       "      <th>Vehicle_Type</th>\n",
       "    </tr>\n",
       "  </thead>\n",
       "  <tbody>\n",
       "    <tr>\n",
       "      <th>0</th>\n",
       "      <td>BS0000001</td>\n",
       "      <td>2021-01-01</td>\n",
       "      <td>Thursday</td>\n",
       "      <td>Give way or uncontrolled</td>\n",
       "      <td>T or staggered junction</td>\n",
       "      <td>Serious</td>\n",
       "      <td>51.512273</td>\n",
       "      <td>Daylight</td>\n",
       "      <td>Kensington and Chelsea</td>\n",
       "      <td>NaN</td>\n",
       "      <td>...</td>\n",
       "      <td>1</td>\n",
       "      <td>2</td>\n",
       "      <td>Metropolitan Police</td>\n",
       "      <td>Dry</td>\n",
       "      <td>One way street</td>\n",
       "      <td>30</td>\n",
       "      <td>15:11:00</td>\n",
       "      <td>Urban</td>\n",
       "      <td>Fine no high winds</td>\n",
       "      <td>Car</td>\n",
       "    </tr>\n",
       "    <tr>\n",
       "      <th>1</th>\n",
       "      <td>BS0000002</td>\n",
       "      <td>2021-01-05</td>\n",
       "      <td>Monday</td>\n",
       "      <td>Give way or uncontrolled</td>\n",
       "      <td>Crossroads</td>\n",
       "      <td>Serious</td>\n",
       "      <td>51.514399</td>\n",
       "      <td>Daylight</td>\n",
       "      <td>Kensington and Chelsea</td>\n",
       "      <td>NaN</td>\n",
       "      <td>...</td>\n",
       "      <td>11</td>\n",
       "      <td>2</td>\n",
       "      <td>Metropolitan Police</td>\n",
       "      <td>Wet or damp</td>\n",
       "      <td>Single carriageway</td>\n",
       "      <td>30</td>\n",
       "      <td>10:59:00</td>\n",
       "      <td>Urban</td>\n",
       "      <td>Fine no high winds</td>\n",
       "      <td>Taxi/Private hire car</td>\n",
       "    </tr>\n",
       "    <tr>\n",
       "      <th>2</th>\n",
       "      <td>BS0000003</td>\n",
       "      <td>2021-01-04</td>\n",
       "      <td>Sunday</td>\n",
       "      <td>Give way or uncontrolled</td>\n",
       "      <td>T or staggered junction</td>\n",
       "      <td>Slight</td>\n",
       "      <td>51.486668</td>\n",
       "      <td>Daylight</td>\n",
       "      <td>Kensington and Chelsea</td>\n",
       "      <td>NaN</td>\n",
       "      <td>...</td>\n",
       "      <td>1</td>\n",
       "      <td>2</td>\n",
       "      <td>Metropolitan Police</td>\n",
       "      <td>Dry</td>\n",
       "      <td>Single carriageway</td>\n",
       "      <td>30</td>\n",
       "      <td>14:19:00</td>\n",
       "      <td>Urban</td>\n",
       "      <td>Fine no high winds</td>\n",
       "      <td>Taxi/Private hire car</td>\n",
       "    </tr>\n",
       "    <tr>\n",
       "      <th>3</th>\n",
       "      <td>BS0000004</td>\n",
       "      <td>2021-01-05</td>\n",
       "      <td>Monday</td>\n",
       "      <td>Auto traffic signal</td>\n",
       "      <td>T or staggered junction</td>\n",
       "      <td>Serious</td>\n",
       "      <td>51.507804</td>\n",
       "      <td>Daylight</td>\n",
       "      <td>Kensington and Chelsea</td>\n",
       "      <td>NaN</td>\n",
       "      <td>...</td>\n",
       "      <td>1</td>\n",
       "      <td>2</td>\n",
       "      <td>Metropolitan Police</td>\n",
       "      <td>Frost or ice</td>\n",
       "      <td>Single carriageway</td>\n",
       "      <td>30</td>\n",
       "      <td>08:10:00</td>\n",
       "      <td>Urban</td>\n",
       "      <td>Other</td>\n",
       "      <td>Motorcycle over 500cc</td>\n",
       "    </tr>\n",
       "    <tr>\n",
       "      <th>4</th>\n",
       "      <td>BS0000005</td>\n",
       "      <td>2021-01-06</td>\n",
       "      <td>Tuesday</td>\n",
       "      <td>Auto traffic signal</td>\n",
       "      <td>Crossroads</td>\n",
       "      <td>Serious</td>\n",
       "      <td>51.482076</td>\n",
       "      <td>Darkness - lights lit</td>\n",
       "      <td>Kensington and Chelsea</td>\n",
       "      <td>NaN</td>\n",
       "      <td>...</td>\n",
       "      <td>1</td>\n",
       "      <td>2</td>\n",
       "      <td>Metropolitan Police</td>\n",
       "      <td>Dry</td>\n",
       "      <td>Single carriageway</td>\n",
       "      <td>30</td>\n",
       "      <td>17:25:00</td>\n",
       "      <td>Urban</td>\n",
       "      <td>Fine no high winds</td>\n",
       "      <td>Car</td>\n",
       "    </tr>\n",
       "    <tr>\n",
       "      <th>...</th>\n",
       "      <td>...</td>\n",
       "      <td>...</td>\n",
       "      <td>...</td>\n",
       "      <td>...</td>\n",
       "      <td>...</td>\n",
       "      <td>...</td>\n",
       "      <td>...</td>\n",
       "      <td>...</td>\n",
       "      <td>...</td>\n",
       "      <td>...</td>\n",
       "      <td>...</td>\n",
       "      <td>...</td>\n",
       "      <td>...</td>\n",
       "      <td>...</td>\n",
       "      <td>...</td>\n",
       "      <td>...</td>\n",
       "      <td>...</td>\n",
       "      <td>...</td>\n",
       "      <td>...</td>\n",
       "      <td>...</td>\n",
       "      <td>...</td>\n",
       "    </tr>\n",
       "    <tr>\n",
       "      <th>307968</th>\n",
       "      <td>BS0307969</td>\n",
       "      <td>2022-02-18</td>\n",
       "      <td>Thursday</td>\n",
       "      <td>Data missing or out of range</td>\n",
       "      <td>Not at junction or within 20 metres</td>\n",
       "      <td>Slight</td>\n",
       "      <td>57.374005</td>\n",
       "      <td>Daylight</td>\n",
       "      <td>Highland</td>\n",
       "      <td>NaN</td>\n",
       "      <td>...</td>\n",
       "      <td>2</td>\n",
       "      <td>1</td>\n",
       "      <td>Northern</td>\n",
       "      <td>Dry</td>\n",
       "      <td>Single carriageway</td>\n",
       "      <td>60</td>\n",
       "      <td>07:00:00</td>\n",
       "      <td>Rural</td>\n",
       "      <td>Fine no high winds</td>\n",
       "      <td>Car</td>\n",
       "    </tr>\n",
       "    <tr>\n",
       "      <th>307969</th>\n",
       "      <td>BS0307970</td>\n",
       "      <td>2022-02-21</td>\n",
       "      <td>Sunday</td>\n",
       "      <td>Data missing or out of range</td>\n",
       "      <td>Not at junction or within 20 metres</td>\n",
       "      <td>Slight</td>\n",
       "      <td>57.232273</td>\n",
       "      <td>Darkness - no lighting</td>\n",
       "      <td>Highland</td>\n",
       "      <td>NaN</td>\n",
       "      <td>...</td>\n",
       "      <td>1</td>\n",
       "      <td>1</td>\n",
       "      <td>Northern</td>\n",
       "      <td>Frost or ice</td>\n",
       "      <td>Single carriageway</td>\n",
       "      <td>60</td>\n",
       "      <td>03:00:00</td>\n",
       "      <td>Rural</td>\n",
       "      <td>Fine no high winds</td>\n",
       "      <td>Car</td>\n",
       "    </tr>\n",
       "    <tr>\n",
       "      <th>307970</th>\n",
       "      <td>BS0307971</td>\n",
       "      <td>2022-02-23</td>\n",
       "      <td>Tuesday</td>\n",
       "      <td>Give way or uncontrolled</td>\n",
       "      <td>T or staggered junction</td>\n",
       "      <td>Slight</td>\n",
       "      <td>57.585044</td>\n",
       "      <td>Daylight</td>\n",
       "      <td>Highland</td>\n",
       "      <td>NaN</td>\n",
       "      <td>...</td>\n",
       "      <td>1</td>\n",
       "      <td>3</td>\n",
       "      <td>Northern</td>\n",
       "      <td>Frost or ice</td>\n",
       "      <td>Single carriageway</td>\n",
       "      <td>30</td>\n",
       "      <td>09:38:00</td>\n",
       "      <td>Rural</td>\n",
       "      <td>Fine no high winds</td>\n",
       "      <td>Car</td>\n",
       "    </tr>\n",
       "    <tr>\n",
       "      <th>307971</th>\n",
       "      <td>BS0307972</td>\n",
       "      <td>2022-02-23</td>\n",
       "      <td>Tuesday</td>\n",
       "      <td>Give way or uncontrolled</td>\n",
       "      <td>T or staggered junction</td>\n",
       "      <td>Serious</td>\n",
       "      <td>57.214898</td>\n",
       "      <td>Darkness - no lighting</td>\n",
       "      <td>Highland</td>\n",
       "      <td>NaN</td>\n",
       "      <td>...</td>\n",
       "      <td>1</td>\n",
       "      <td>2</td>\n",
       "      <td>Northern</td>\n",
       "      <td>Wet or damp</td>\n",
       "      <td>Single carriageway</td>\n",
       "      <td>60</td>\n",
       "      <td>18:25:00</td>\n",
       "      <td>Rural</td>\n",
       "      <td>Fine no high winds</td>\n",
       "      <td>Motorcycle over 500cc</td>\n",
       "    </tr>\n",
       "    <tr>\n",
       "      <th>307972</th>\n",
       "      <td>BS0307973</td>\n",
       "      <td>2022-02-28</td>\n",
       "      <td>Sunday</td>\n",
       "      <td>Give way or uncontrolled</td>\n",
       "      <td>T or staggered junction</td>\n",
       "      <td>Serious</td>\n",
       "      <td>57.575210</td>\n",
       "      <td>Daylight</td>\n",
       "      <td>Highland</td>\n",
       "      <td>Other object on road</td>\n",
       "      <td>...</td>\n",
       "      <td>1</td>\n",
       "      <td>1</td>\n",
       "      <td>Northern</td>\n",
       "      <td>Wet or damp</td>\n",
       "      <td>Dual carriageway</td>\n",
       "      <td>60</td>\n",
       "      <td>15:45:00</td>\n",
       "      <td>Rural</td>\n",
       "      <td>Snowing no high winds</td>\n",
       "      <td>Car</td>\n",
       "    </tr>\n",
       "  </tbody>\n",
       "</table>\n",
       "<p>307973 rows × 21 columns</p>\n",
       "</div>"
      ],
      "text/plain": [
       "       Accident_Index Accident Date Day_of_Week              Junction_Control  \\\n",
       "0           BS0000001    2021-01-01    Thursday      Give way or uncontrolled   \n",
       "1           BS0000002    2021-01-05      Monday      Give way or uncontrolled   \n",
       "2           BS0000003    2021-01-04      Sunday      Give way or uncontrolled   \n",
       "3           BS0000004    2021-01-05      Monday           Auto traffic signal   \n",
       "4           BS0000005    2021-01-06     Tuesday           Auto traffic signal   \n",
       "...               ...           ...         ...                           ...   \n",
       "307968      BS0307969    2022-02-18    Thursday  Data missing or out of range   \n",
       "307969      BS0307970    2022-02-21      Sunday  Data missing or out of range   \n",
       "307970      BS0307971    2022-02-23     Tuesday      Give way or uncontrolled   \n",
       "307971      BS0307972    2022-02-23     Tuesday      Give way or uncontrolled   \n",
       "307972      BS0307973    2022-02-28      Sunday      Give way or uncontrolled   \n",
       "\n",
       "                            Junction_Detail Accident_Severity   Latitude  \\\n",
       "0                   T or staggered junction           Serious  51.512273   \n",
       "1                                Crossroads           Serious  51.514399   \n",
       "2                   T or staggered junction            Slight  51.486668   \n",
       "3                   T or staggered junction           Serious  51.507804   \n",
       "4                                Crossroads           Serious  51.482076   \n",
       "...                                     ...               ...        ...   \n",
       "307968  Not at junction or within 20 metres            Slight  57.374005   \n",
       "307969  Not at junction or within 20 metres            Slight  57.232273   \n",
       "307970              T or staggered junction            Slight  57.585044   \n",
       "307971              T or staggered junction           Serious  57.214898   \n",
       "307972              T or staggered junction           Serious  57.575210   \n",
       "\n",
       "              Light_Conditions Local_Authority_(District)  \\\n",
       "0                     Daylight     Kensington and Chelsea   \n",
       "1                     Daylight     Kensington and Chelsea   \n",
       "2                     Daylight     Kensington and Chelsea   \n",
       "3                     Daylight     Kensington and Chelsea   \n",
       "4        Darkness - lights lit     Kensington and Chelsea   \n",
       "...                        ...                        ...   \n",
       "307968                Daylight                   Highland   \n",
       "307969  Darkness - no lighting                   Highland   \n",
       "307970                Daylight                   Highland   \n",
       "307971  Darkness - no lighting                   Highland   \n",
       "307972                Daylight                   Highland   \n",
       "\n",
       "         Carriageway_Hazards  ...  Number_of_Casualties  Number_of_Vehicles  \\\n",
       "0                        NaN  ...                     1                   2   \n",
       "1                        NaN  ...                    11                   2   \n",
       "2                        NaN  ...                     1                   2   \n",
       "3                        NaN  ...                     1                   2   \n",
       "4                        NaN  ...                     1                   2   \n",
       "...                      ...  ...                   ...                 ...   \n",
       "307968                   NaN  ...                     2                   1   \n",
       "307969                   NaN  ...                     1                   1   \n",
       "307970                   NaN  ...                     1                   3   \n",
       "307971                   NaN  ...                     1                   2   \n",
       "307972  Other object on road  ...                     1                   1   \n",
       "\n",
       "               Police_Force Road_Surface_Conditions           Road_Type  \\\n",
       "0       Metropolitan Police                     Dry      One way street   \n",
       "1       Metropolitan Police             Wet or damp  Single carriageway   \n",
       "2       Metropolitan Police                     Dry  Single carriageway   \n",
       "3       Metropolitan Police            Frost or ice  Single carriageway   \n",
       "4       Metropolitan Police                     Dry  Single carriageway   \n",
       "...                     ...                     ...                 ...   \n",
       "307968             Northern                     Dry  Single carriageway   \n",
       "307969             Northern            Frost or ice  Single carriageway   \n",
       "307970             Northern            Frost or ice  Single carriageway   \n",
       "307971             Northern             Wet or damp  Single carriageway   \n",
       "307972             Northern             Wet or damp    Dual carriageway   \n",
       "\n",
       "       Speed_limit      Time Urban_or_Rural_Area     Weather_Conditions  \\\n",
       "0               30  15:11:00               Urban     Fine no high winds   \n",
       "1               30  10:59:00               Urban     Fine no high winds   \n",
       "2               30  14:19:00               Urban     Fine no high winds   \n",
       "3               30  08:10:00               Urban                  Other   \n",
       "4               30  17:25:00               Urban     Fine no high winds   \n",
       "...            ...       ...                 ...                    ...   \n",
       "307968          60  07:00:00               Rural     Fine no high winds   \n",
       "307969          60  03:00:00               Rural     Fine no high winds   \n",
       "307970          30  09:38:00               Rural     Fine no high winds   \n",
       "307971          60  18:25:00               Rural     Fine no high winds   \n",
       "307972          60  15:45:00               Rural  Snowing no high winds   \n",
       "\n",
       "                 Vehicle_Type  \n",
       "0                         Car  \n",
       "1       Taxi/Private hire car  \n",
       "2       Taxi/Private hire car  \n",
       "3       Motorcycle over 500cc  \n",
       "4                         Car  \n",
       "...                       ...  \n",
       "307968                    Car  \n",
       "307969                    Car  \n",
       "307970                    Car  \n",
       "307971  Motorcycle over 500cc  \n",
       "307972                    Car  \n",
       "\n",
       "[307973 rows x 21 columns]"
      ]
     },
     "execution_count": 2,
     "metadata": {},
     "output_type": "execute_result"
    }
   ],
   "source": [
    "# Load the Excel file and inspect sheet names\n",
    "accident_df = pd.read_excel('Road Accident Data.xlsx')\n",
    "accident_df"
   ]
  },
  {
   "cell_type": "code",
   "execution_count": 3,
   "id": "6b8a0051",
   "metadata": {},
   "outputs": [
    {
     "data": {
      "text/plain": [
       "['Accident_Index',\n",
       " 'Accident Date',\n",
       " 'Day_of_Week',\n",
       " 'Junction_Control',\n",
       " 'Junction_Detail',\n",
       " 'Accident_Severity',\n",
       " 'Latitude',\n",
       " 'Light_Conditions',\n",
       " 'Local_Authority_(District)',\n",
       " 'Carriageway_Hazards',\n",
       " 'Longitude',\n",
       " 'Number_of_Casualties',\n",
       " 'Number_of_Vehicles',\n",
       " 'Police_Force',\n",
       " 'Road_Surface_Conditions',\n",
       " 'Road_Type',\n",
       " 'Speed_limit',\n",
       " 'Time',\n",
       " 'Urban_or_Rural_Area',\n",
       " 'Weather_Conditions',\n",
       " 'Vehicle_Type']"
      ]
     },
     "execution_count": 3,
     "metadata": {},
     "output_type": "execute_result"
    }
   ],
   "source": [
    "accident_df.columns.tolist()"
   ]
  },
  {
   "cell_type": "code",
   "execution_count": 4,
   "id": "b0f4dad6",
   "metadata": {},
   "outputs": [],
   "source": [
    "accident_df.rename(columns={'Accident Date': 'Accident_Date'}, inplace=True)\n",
    "\n",
    "columns_to_use = [\n",
    "    'Accident_Date', 'Day_of_Week', 'Accident_Severity',\n",
    "    'Latitude', 'Local_Authority_(District)', 'Junction_Control',\n",
    "    'Junction_Detail', 'Light_Conditions', 'Weather_Conditions',\n",
    "    'Number_of_Casualties', 'Number_of_Vehicles', 'Vehicle_Type'\n",
    "]\n",
    "\n",
    "accident_df['Accident_Severity'] = accident_df['Accident_Severity'].replace('Fetal', 'Fatal')"
   ]
  },
  {
   "cell_type": "code",
   "execution_count": 5,
   "id": "4059ad85",
   "metadata": {},
   "outputs": [
    {
     "data": {
      "application/vnd.microsoft.datawrangler.viewer.v0+json": {
       "columns": [
        {
         "name": "index",
         "rawType": "object",
         "type": "string"
        },
        {
         "name": "0",
         "rawType": "object",
         "type": "unknown"
        }
       ],
       "ref": "e3fc527b-28a7-4d1d-a834-a619543f5b73",
       "rows": [
        [
         "Accident_Index",
         "object"
        ],
        [
         "Accident_Date",
         "datetime64[ns]"
        ],
        [
         "Day_of_Week",
         "object"
        ],
        [
         "Junction_Control",
         "object"
        ],
        [
         "Junction_Detail",
         "object"
        ],
        [
         "Accident_Severity",
         "object"
        ],
        [
         "Latitude",
         "float64"
        ],
        [
         "Light_Conditions",
         "object"
        ],
        [
         "Local_Authority_(District)",
         "object"
        ],
        [
         "Carriageway_Hazards",
         "object"
        ],
        [
         "Longitude",
         "float64"
        ],
        [
         "Number_of_Casualties",
         "int64"
        ],
        [
         "Number_of_Vehicles",
         "int64"
        ],
        [
         "Police_Force",
         "object"
        ],
        [
         "Road_Surface_Conditions",
         "object"
        ],
        [
         "Road_Type",
         "object"
        ],
        [
         "Speed_limit",
         "int64"
        ],
        [
         "Time",
         "object"
        ],
        [
         "Urban_or_Rural_Area",
         "object"
        ],
        [
         "Weather_Conditions",
         "object"
        ],
        [
         "Vehicle_Type",
         "object"
        ]
       ],
       "shape": {
        "columns": 1,
        "rows": 21
       }
      },
      "text/plain": [
       "Accident_Index                        object\n",
       "Accident_Date                 datetime64[ns]\n",
       "Day_of_Week                           object\n",
       "Junction_Control                      object\n",
       "Junction_Detail                       object\n",
       "Accident_Severity                     object\n",
       "Latitude                             float64\n",
       "Light_Conditions                      object\n",
       "Local_Authority_(District)            object\n",
       "Carriageway_Hazards                   object\n",
       "Longitude                            float64\n",
       "Number_of_Casualties                   int64\n",
       "Number_of_Vehicles                     int64\n",
       "Police_Force                          object\n",
       "Road_Surface_Conditions               object\n",
       "Road_Type                             object\n",
       "Speed_limit                            int64\n",
       "Time                                  object\n",
       "Urban_or_Rural_Area                   object\n",
       "Weather_Conditions                    object\n",
       "Vehicle_Type                          object\n",
       "dtype: object"
      ]
     },
     "execution_count": 5,
     "metadata": {},
     "output_type": "execute_result"
    }
   ],
   "source": [
    "accident_df.dtypes"
   ]
  },
  {
   "cell_type": "code",
   "execution_count": 6,
   "id": "deabe90c",
   "metadata": {},
   "outputs": [
    {
     "data": {
      "text/plain": [
       "{'Top 10 Accident Locations': Local_Authority_(District)\n",
       " Birmingham          6165\n",
       " Leeds               4140\n",
       " Manchester          3132\n",
       " Bradford            3006\n",
       " Westminster         2811\n",
       " Sheffield           2750\n",
       " Liverpool           2611\n",
       " Cornwall            2606\n",
       " Barnet              2302\n",
       " Bristol, City of    2270\n",
       " Name: count, dtype: int64,\n",
       " 'Top 5 Most Common Weather Conditions': Weather_Conditions\n",
       " Fine no high winds       244496\n",
       " Raining no high winds     37841\n",
       " Other                      8802\n",
       " Snowing no high winds      4839\n",
       " Fog or mist                4783\n",
       " Name: count, dtype: int64,\n",
       " 'Top 5 Vehicle Types in Accidents': Vehicle_Type\n",
       " Car                                     239794\n",
       " Van / Goods 3.5 tonnes mgw or under      15695\n",
       " Motorcycle over 500cc                    11226\n",
       " Bus or coach (17 or more pass seats)      8686\n",
       " Motorcycle 125cc and under                6852\n",
       " Name: count, dtype: int64,\n",
       " 'Accident Severity Distribution': Accident_Severity\n",
       " Slight     263280\n",
       " Serious     40740\n",
       " Fatal        3953\n",
       " Name: count, dtype: int64}"
      ]
     },
     "execution_count": 6,
     "metadata": {},
     "output_type": "execute_result"
    }
   ],
   "source": [
    "# Summary statistics\n",
    "summary = {\n",
    "    \"Top 10 Accident Locations\": accident_df['Local_Authority_(District)'].value_counts().head(10),\n",
    "    \"Top 5 Most Common Weather Conditions\": accident_df['Weather_Conditions'].value_counts().head(5),\n",
    "    \"Top 5 Vehicle Types in Accidents\": accident_df['Vehicle_Type'].value_counts().head(5),\n",
    "    \"Accident Severity Distribution\": accident_df['Accident_Severity'].value_counts(),\n",
    "    #\"Monthly Accident Trend\": accident_df['Month'].value_counts().sort_index()\n",
    "}\n",
    "\n",
    "summary "
   ]
  },
  {
   "cell_type": "markdown",
   "id": "d646c89b",
   "metadata": {},
   "source": [
    "## High-Risk Locations (Hotspots)"
   ]
  },
  {
   "cell_type": "code",
   "execution_count": 7,
   "id": "1985e9df",
   "metadata": {},
   "outputs": [
    {
     "data": {
      "application/vnd.microsoft.datawrangler.viewer.v0+json": {
       "columns": [
        {
         "name": "Local_Authority_(District)",
         "rawType": "object",
         "type": "string"
        },
        {
         "name": "count",
         "rawType": "int64",
         "type": "integer"
        }
       ],
       "ref": "37d612e3-f04a-4f50-bc21-b3a0f425bc4a",
       "rows": [
        [
         "Birmingham",
         "6165"
        ],
        [
         "Leeds",
         "4140"
        ],
        [
         "Manchester",
         "3132"
        ],
        [
         "Bradford",
         "3006"
        ],
        [
         "Westminster",
         "2811"
        ],
        [
         "Sheffield",
         "2750"
        ],
        [
         "Liverpool",
         "2611"
        ],
        [
         "Cornwall",
         "2606"
        ],
        [
         "Barnet",
         "2302"
        ],
        [
         "Bristol, City of",
         "2270"
        ]
       ],
       "shape": {
        "columns": 1,
        "rows": 10
       }
      },
      "text/plain": [
       "Local_Authority_(District)\n",
       "Birmingham          6165\n",
       "Leeds               4140\n",
       "Manchester          3132\n",
       "Bradford            3006\n",
       "Westminster         2811\n",
       "Sheffield           2750\n",
       "Liverpool           2611\n",
       "Cornwall            2606\n",
       "Barnet              2302\n",
       "Bristol, City of    2270\n",
       "Name: count, dtype: int64"
      ]
     },
     "execution_count": 7,
     "metadata": {},
     "output_type": "execute_result"
    }
   ],
   "source": [
    "# Number of accidents per district\n",
    "hotspots = accident_df['Local_Authority_(District)'].value_counts().head(10)\n",
    "hotspots\n"
   ]
  },
  {
   "cell_type": "markdown",
   "id": "df42e701",
   "metadata": {},
   "source": [
    "## Trends Over Time"
   ]
  },
  {
   "cell_type": "code",
   "execution_count": 8,
   "id": "968f8ebe",
   "metadata": {},
   "outputs": [],
   "source": [
    "# Add Month-Year, Day column for trend analysis\n",
    "accident_df['Month'] = accident_df['Accident_Date'].dt.to_period('M').astype(str)\n",
    "accident_df['Day'] =accident_df['Accident_Date'].dt.date\n"
   ]
  },
  {
   "cell_type": "code",
   "execution_count": 9,
   "id": "2a921405",
   "metadata": {},
   "outputs": [
    {
     "data": {
      "image/png": "[encoded data removed]",
      "text/plain": [
       "<Figure size 1200x600 with 1 Axes>"
      ]
     },
     "metadata": {},
     "output_type": "display_data"
    },
    {
     "data": {
      "image/png": "[encoded data removed]",
      "text/plain": [
       "<Figure size 1200x600 with 1 Axes>"
      ]
     },
     "metadata": {},
     "output_type": "display_data"
    }
   ],
   "source": [
    "# Monthly, Daily trend\n",
    "monthly_trend = accident_df.groupby('Month').size().sort_index()\n",
    "daily_trend = accident_df.groupby('Day').size().sort_index()\n",
    "\n",
    "\n",
    "# Plot Monthly Trend\n",
    "plt.figure(figsize=(12, 6))\n",
    "monthly_trend.plot(kind='line', marker='o')\n",
    "plt.title(\"Monthly Accident Trend\")\n",
    "plt.xlabel(\"Month\")\n",
    "plt.ylabel(\"Number of Accidents\")\n",
    "plt.grid(True)\n",
    "plt.tight_layout()\n",
    "plt.show()\n",
    "\n",
    "# Plot Daily Trend\n",
    "plt.figure(figsize=(12, 6))\n",
    "daily_trend.plot(kind='line', marker='o', color='orange')\n",
    "plt.title(\"Daily Accident Trend\")\n",
    "plt.xlabel(\"Day\")\n",
    "plt.ylabel(\"Number of Accidents\")\n",
    "plt.grid(True)\n",
    "plt.tight_layout()\n",
    "plt.show()\n",
    "\n",
    "\n",
    "\n"
   ]
  },
  {
   "cell_type": "markdown",
   "id": "59ee9c5b",
   "metadata": {},
   "source": [
    "##  Common Causes"
   ]
  },
  {
   "cell_type": "markdown",
   "id": "93c345ef",
   "metadata": {},
   "source": [
    "### Junction-Related Causes"
   ]
  },
  {
   "cell_type": "code",
   "execution_count": 10,
   "id": "e88da3fd",
   "metadata": {},
   "outputs": [
    {
     "data": {
      "text/plain": [
       "(Junction_Control\n",
       " Give way or uncontrolled               150045\n",
       " Data missing or out of range            98056\n",
       " Auto traffic signal                     32256\n",
       " Not at junction or within 20 metres     25378\n",
       " Stop sign                                1685\n",
       " Authorised person                         460\n",
       " Auto traffic sigl                          93\n",
       " Name: count, dtype: int64,\n",
       " ' ------------------- ',\n",
       " Junction_Detail\n",
       " Not at junction or within 20 metres    123094\n",
       " T or staggered junction                 96718\n",
       " Crossroads                              29948\n",
       " Roundabout                              27264\n",
       " Private drive or entrance               10875\n",
       " Other junction                           8315\n",
       " Slip road                                4265\n",
       " More than 4 arms (not roundabout)        4148\n",
       " Mini-roundabout                          3346\n",
       " Name: count, dtype: int64)"
      ]
     },
     "execution_count": 10,
     "metadata": {},
     "output_type": "execute_result"
    }
   ],
   "source": [
    "# Helps determine if lack of control (e.g. “Uncontrolled junctions”) is a major factor.\n",
    "accident_df['Junction_Control'].value_counts(), \" ------------------- \",accident_df['Junction_Detail'].value_counts()\n",
    "\n"
   ]
  },
  {
   "cell_type": "markdown",
   "id": "aacf53d1",
   "metadata": {},
   "source": [
    "### Light Conditions"
   ]
  },
  {
   "cell_type": "code",
   "execution_count": 11,
   "id": "1063c39f",
   "metadata": {},
   "outputs": [
    {
     "data": {
      "application/vnd.microsoft.datawrangler.viewer.v0+json": {
       "columns": [
        {
         "name": "Light_Conditions",
         "rawType": "object",
         "type": "string"
        },
        {
         "name": "count",
         "rawType": "int64",
         "type": "integer"
        }
       ],
       "ref": "bce1dd91-27a9-4e1f-a560-829afed7ccad",
       "rows": [
        [
         "Daylight",
         "227286"
        ],
        [
         "Darkness - lights lit",
         "60093"
        ],
        [
         "Darkness - no lighting",
         "16528"
        ],
        [
         "Darkness - lighting unknown",
         "2924"
        ],
        [
         "Darkness - lights unlit",
         "1142"
        ]
       ],
       "shape": {
        "columns": 1,
        "rows": 5
       }
      },
      "text/plain": [
       "Light_Conditions\n",
       "Daylight                       227286\n",
       "Darkness - lights lit           60093\n",
       "Darkness - no lighting          16528\n",
       "Darkness - lighting unknown      2924\n",
       "Darkness - lights unlit          1142\n",
       "Name: count, dtype: int64"
      ]
     },
     "execution_count": 11,
     "metadata": {},
     "output_type": "execute_result"
    }
   ],
   "source": [
    "# Identifies whether accidents are more common in:\n",
    "# Daylight Darkness (with or without lights)\n",
    "accident_df['Light_Conditions'].value_counts()"
   ]
  },
  {
   "cell_type": "code",
   "execution_count": 12,
   "id": "70e4f259",
   "metadata": {},
   "outputs": [
    {
     "data": {
      "application/vnd.microsoft.datawrangler.viewer.v0+json": {
       "columns": [
        {
         "name": "Weather_Conditions",
         "rawType": "object",
         "type": "string"
        },
        {
         "name": "count",
         "rawType": "int64",
         "type": "integer"
        }
       ],
       "ref": "3297e903-b568-4e11-b612-d4c06aeb8bd7",
       "rows": [
        [
         "Fine no high winds",
         "244496"
        ],
        [
         "Raining no high winds",
         "37841"
        ],
        [
         "Other",
         "8802"
        ],
        [
         "Snowing no high winds",
         "4839"
        ],
        [
         "Fog or mist",
         "4783"
        ],
        [
         "Raining + high winds",
         "3526"
        ],
        [
         "Fine + high winds",
         "3148"
        ],
        [
         "Snowing + high winds",
         "538"
        ]
       ],
       "shape": {
        "columns": 1,
        "rows": 8
       }
      },
      "text/plain": [
       "Weather_Conditions\n",
       "Fine no high winds       244496\n",
       "Raining no high winds     37841\n",
       "Other                      8802\n",
       "Snowing no high winds      4839\n",
       "Fog or mist                4783\n",
       "Raining + high winds       3526\n",
       "Fine + high winds          3148\n",
       "Snowing + high winds        538\n",
       "Name: count, dtype: int64"
      ]
     },
     "execution_count": 12,
     "metadata": {},
     "output_type": "execute_result"
    }
   ],
   "source": [
    "# Weather Conditions\n",
    "# How weather (e.g. rain, fog, fine) impacts accident rates.\n",
    "accident_df['Weather_Conditions'].value_counts()\n"
   ]
  },
  {
   "cell_type": "markdown",
   "id": "c3037ed5",
   "metadata": {},
   "source": [
    "### Road Surface Conditions"
   ]
  },
  {
   "cell_type": "code",
   "execution_count": 13,
   "id": "9423a4fb",
   "metadata": {},
   "outputs": [
    {
     "data": {
      "application/vnd.microsoft.datawrangler.viewer.v0+json": {
       "columns": [
        {
         "name": "Road_Surface_Conditions",
         "rawType": "object",
         "type": "string"
        },
        {
         "name": "count",
         "rawType": "int64",
         "type": "integer"
        }
       ],
       "ref": "8decb09e-6bf0-4c9e-8db1-445d3d5dc909",
       "rows": [
        [
         "Dry",
         "208967"
        ],
        [
         "Wet or damp",
         "81796"
        ],
        [
         "Frost or ice",
         "12078"
        ],
        [
         "Snow",
         "4758"
        ],
        [
         "Flood over 3cm. deep",
         "374"
        ]
       ],
       "shape": {
        "columns": 1,
        "rows": 5
       }
      },
      "text/plain": [
       "Road_Surface_Conditions\n",
       "Dry                     208967\n",
       "Wet or damp              81796\n",
       "Frost or ice             12078\n",
       "Snow                      4758\n",
       "Flood over 3cm. deep       374\n",
       "Name: count, dtype: int64"
      ]
     },
     "execution_count": 13,
     "metadata": {},
     "output_type": "execute_result"
    }
   ],
   "source": [
    "# To know if wet or icy roads contribute to most incidents\n",
    "accident_df['Road_Surface_Conditions'].value_counts()\n"
   ]
  },
  {
   "cell_type": "markdown",
   "id": "5aefe225",
   "metadata": {},
   "source": [
    "### Vehicle Types Involved"
   ]
  },
  {
   "cell_type": "code",
   "execution_count": 14,
   "id": "8d77a50a",
   "metadata": {},
   "outputs": [
    {
     "data": {
      "application/vnd.microsoft.datawrangler.viewer.v0+json": {
       "columns": [
        {
         "name": "Vehicle_Type",
         "rawType": "object",
         "type": "string"
        },
        {
         "name": "count",
         "rawType": "int64",
         "type": "integer"
        }
       ],
       "ref": "d7e2bb9c-ac9c-444e-ac74-b61072ac3c43",
       "rows": [
        [
         "Car",
         "239794"
        ],
        [
         "Van / Goods 3.5 tonnes mgw or under",
         "15695"
        ],
        [
         "Motorcycle over 500cc",
         "11226"
        ],
        [
         "Bus or coach (17 or more pass seats)",
         "8686"
        ],
        [
         "Motorcycle 125cc and under",
         "6852"
        ],
        [
         "Goods 7.5 tonnes mgw and over",
         "6532"
        ],
        [
         "Taxi/Private hire car",
         "5543"
        ],
        [
         "Motorcycle 50cc and under",
         "3703"
        ],
        [
         "Motorcycle over 125cc and up to 500cc",
         "3285"
        ],
        [
         "Other vehicle",
         "2516"
        ],
        [
         "Goods over 3.5t. and under 7.5t",
         "2502"
        ],
        [
         "Minibus (8 - 16 passenger seats)",
         "821"
        ],
        [
         "Agricultural vehicle",
         "749"
        ],
        [
         "Pedal cycle",
         "66"
        ],
        [
         "Ridden horse",
         "3"
        ]
       ],
       "shape": {
        "columns": 1,
        "rows": 15
       }
      },
      "text/plain": [
       "Vehicle_Type\n",
       "Car                                      239794\n",
       "Van / Goods 3.5 tonnes mgw or under       15695\n",
       "Motorcycle over 500cc                     11226\n",
       "Bus or coach (17 or more pass seats)       8686\n",
       "Motorcycle 125cc and under                 6852\n",
       "Goods 7.5 tonnes mgw and over              6532\n",
       "Taxi/Private hire car                      5543\n",
       "Motorcycle 50cc and under                  3703\n",
       "Motorcycle over 125cc and up to 500cc      3285\n",
       "Other vehicle                              2516\n",
       "Goods over 3.5t. and under 7.5t            2502\n",
       "Minibus (8 - 16 passenger seats)            821\n",
       "Agricultural vehicle                        749\n",
       "Pedal cycle                                  66\n",
       "Ridden horse                                  3\n",
       "Name: count, dtype: int64"
      ]
     },
     "execution_count": 14,
     "metadata": {},
     "output_type": "execute_result"
    }
   ],
   "source": [
    "# checking if cars, motorbikes, or trucks are more frequently involved\n",
    "accident_df['Vehicle_Type'].value_counts()\n"
   ]
  },
  {
   "cell_type": "code",
   "execution_count": 15,
   "id": "0f50b3e9",
   "metadata": {},
   "outputs": [
    {
     "data": {
      "application/vnd.microsoft.datawrangler.viewer.v0+json": {
       "columns": [
        {
         "name": "Light_Conditions",
         "rawType": "object",
         "type": "string"
        },
        {
         "name": "Fatal",
         "rawType": "int64",
         "type": "integer"
        },
        {
         "name": "Serious",
         "rawType": "int64",
         "type": "integer"
        },
        {
         "name": "Slight",
         "rawType": "int64",
         "type": "integer"
        }
       ],
       "ref": "26b3fbf5-2a99-4081-a8a0-f0c83d8bbe03",
       "rows": [
        [
         "Darkness - lighting unknown",
         "28",
         "357",
         "2539"
        ],
        [
         "Darkness - lights lit",
         "862",
         "8515",
         "50716"
        ],
        [
         "Darkness - lights unlit",
         "15",
         "146",
         "981"
        ],
        [
         "Darkness - no lighting",
         "649",
         "3078",
         "12801"
        ],
        [
         "Daylight",
         "2399",
         "28644",
         "196243"
        ]
       ],
       "shape": {
        "columns": 3,
        "rows": 5
       }
      },
      "text/html": [
       "<div>\n",
       "<style scoped>\n",
       "    .dataframe tbody tr th:only-of-type {\n",
       "        vertical-align: middle;\n",
       "    }\n",
       "\n",
       "    .dataframe tbody tr th {\n",
       "        vertical-align: top;\n",
       "    }\n",
       "\n",
       "    .dataframe thead th {\n",
       "        text-align: right;\n",
       "    }\n",
       "</style>\n",
       "<table border=\"1\" class=\"dataframe\">\n",
       "  <thead>\n",
       "    <tr style=\"text-align: right;\">\n",
       "      <th>Accident_Severity</th>\n",
       "      <th>Fatal</th>\n",
       "      <th>Serious</th>\n",
       "      <th>Slight</th>\n",
       "    </tr>\n",
       "    <tr>\n",
       "      <th>Light_Conditions</th>\n",
       "      <th></th>\n",
       "      <th></th>\n",
       "      <th></th>\n",
       "    </tr>\n",
       "  </thead>\n",
       "  <tbody>\n",
       "    <tr>\n",
       "      <th>Darkness - lighting unknown</th>\n",
       "      <td>28</td>\n",
       "      <td>357</td>\n",
       "      <td>2539</td>\n",
       "    </tr>\n",
       "    <tr>\n",
       "      <th>Darkness - lights lit</th>\n",
       "      <td>862</td>\n",
       "      <td>8515</td>\n",
       "      <td>50716</td>\n",
       "    </tr>\n",
       "    <tr>\n",
       "      <th>Darkness - lights unlit</th>\n",
       "      <td>15</td>\n",
       "      <td>146</td>\n",
       "      <td>981</td>\n",
       "    </tr>\n",
       "    <tr>\n",
       "      <th>Darkness - no lighting</th>\n",
       "      <td>649</td>\n",
       "      <td>3078</td>\n",
       "      <td>12801</td>\n",
       "    </tr>\n",
       "    <tr>\n",
       "      <th>Daylight</th>\n",
       "      <td>2399</td>\n",
       "      <td>28644</td>\n",
       "      <td>196243</td>\n",
       "    </tr>\n",
       "  </tbody>\n",
       "</table>\n",
       "</div>"
      ],
      "text/plain": [
       "Accident_Severity            Fatal  Serious  Slight\n",
       "Light_Conditions                                   \n",
       "Darkness - lighting unknown     28      357    2539\n",
       "Darkness - lights lit          862     8515   50716\n",
       "Darkness - lights unlit         15      146     981\n",
       "Darkness - no lighting         649     3078   12801\n",
       "Daylight                      2399    28644  196243"
      ]
     },
     "execution_count": 15,
     "metadata": {},
     "output_type": "execute_result"
    }
   ],
   "source": [
    "pd.crosstab(accident_df['Weather_Conditions'],accident_df['Accident_Severity'])\n",
    "pd.crosstab(accident_df['Light_Conditions'],accident_df['Accident_Severity'])\n"
   ]
  },
  {
   "cell_type": "code",
   "execution_count": 16,
   "id": "91c40e9e",
   "metadata": {},
   "outputs": [
    {
     "data": {
      "text/plain": [
       "<Axes: title={'center': 'Accidents by Weather Condition'}, ylabel='Weather_Conditions'>"
      ]
     },
     "execution_count": 16,
     "metadata": {},
     "output_type": "execute_result"
    },
    {
     "data": {
      "image/png": "[encoded data removed]",
      "text/plain": [
       "<Figure size 640x480 with 1 Axes>"
      ]
     },
     "metadata": {},
     "output_type": "display_data"
    }
   ],
   "source": [
    "accident_df['Weather_Conditions'].value_counts().plot(kind='barh', title=\"Accidents by Weather Condition\")\n"
   ]
  },
  {
   "cell_type": "markdown",
   "id": "69686119",
   "metadata": {},
   "source": []
  },
  {
   "cell_type": "code",
   "execution_count": 17,
   "id": "b437d1c5",
   "metadata": {},
   "outputs": [
    {
     "data": {
      "text/plain": [
       "<Axes: title={'center': 'Accident Severity Distribution'}, xlabel='Accident_Severity'>"
      ]
     },
     "execution_count": 17,
     "metadata": {},
     "output_type": "execute_result"
    },
    {
     "data": {
      "image/png": "[encoded data removed]",
      "text/plain": [
       "<Figure size 640x480 with 1 Axes>"
      ]
     },
     "metadata": {},
     "output_type": "display_data"
    }
   ],
   "source": [
    "accident_df['Accident_Severity'].value_counts().plot(kind='bar', title='Accident Severity Distribution')\n"
   ]
  },
  {
   "cell_type": "code",
   "execution_count": 20,
   "id": "54a8de02",
   "metadata": {},
   "outputs": [
    {
     "data": {
      "text/plain": [
       "<Axes: title={'center': 'Monthly Accident Severity Trends'}, xlabel='Month'>"
      ]
     },
     "execution_count": 20,
     "metadata": {},
     "output_type": "execute_result"
    },
    {
     "data": {
      "image/png": "[encoded data removed]",
      "text/plain": [
       "<Figure size 640x480 with 1 Axes>"
      ]
     },
     "metadata": {},
     "output_type": "display_data"
    }
   ],
   "source": [
    "accident_df['Accident_Date'] = pd.to_datetime(accident_df['Accident_Date'])\n",
    "\n",
    "severity_by_month = accident_df.groupby(['Month', 'Accident_Severity']).size().unstack()\n",
    "severity_by_month.plot(kind='line', title='Monthly Accident Severity Trends')\n"
   ]
  },
  {
   "cell_type": "code",
   "execution_count": 21,
   "id": "88867426",
   "metadata": {},
   "outputs": [
    {
     "data": {
      "application/vnd.microsoft.datawrangler.viewer.v0+json": {
       "columns": [
        {
         "name": "Local_Authority_(District)",
         "rawType": "object",
         "type": "string"
        },
        {
         "name": "Fatal",
         "rawType": "float64",
         "type": "float"
        },
        {
         "name": "Serious",
         "rawType": "float64",
         "type": "float"
        },
        {
         "name": "Slight",
         "rawType": "float64",
         "type": "float"
        }
       ],
       "ref": "70efe59e-1749-4c11-8eb0-febb4f25ee7b",
       "rows": [
        [
         "Westminster",
         "189.0",
         "387.0",
         "2235.0"
        ],
        [
         "Camden",
         "101.0",
         "227.0",
         "1343.0"
        ],
        [
         "Birmingham",
         "57.0",
         "706.0",
         "5402.0"
        ],
        [
         "City of London",
         "45.0",
         "81.0",
         "509.0"
        ],
        [
         "Cornwall",
         "43.0",
         "255.0",
         "2308.0"
        ],
        [
         "Wiltshire",
         "43.0",
         "314.0",
         "1233.0"
        ],
        [
         "East Riding of Yorkshire",
         "39.0",
         "294.0",
         "1225.0"
        ],
        [
         "Shropshire",
         "38.0",
         "168.0",
         "1137.0"
        ],
        [
         "Leeds",
         "38.0",
         "531.0",
         "3571.0"
        ],
        [
         "West Lindsey",
         "30.0",
         "99.0",
         "506.0"
        ]
       ],
       "shape": {
        "columns": 3,
        "rows": 10
       }
      },
      "text/html": [
       "<div>\n",
       "<style scoped>\n",
       "    .dataframe tbody tr th:only-of-type {\n",
       "        vertical-align: middle;\n",
       "    }\n",
       "\n",
       "    .dataframe tbody tr th {\n",
       "        vertical-align: top;\n",
       "    }\n",
       "\n",
       "    .dataframe thead th {\n",
       "        text-align: right;\n",
       "    }\n",
       "</style>\n",
       "<table border=\"1\" class=\"dataframe\">\n",
       "  <thead>\n",
       "    <tr style=\"text-align: right;\">\n",
       "      <th>Accident_Severity</th>\n",
       "      <th>Fatal</th>\n",
       "      <th>Serious</th>\n",
       "      <th>Slight</th>\n",
       "    </tr>\n",
       "    <tr>\n",
       "      <th>Local_Authority_(District)</th>\n",
       "      <th></th>\n",
       "      <th></th>\n",
       "      <th></th>\n",
       "    </tr>\n",
       "  </thead>\n",
       "  <tbody>\n",
       "    <tr>\n",
       "      <th>Westminster</th>\n",
       "      <td>189.0</td>\n",
       "      <td>387.0</td>\n",
       "      <td>2235.0</td>\n",
       "    </tr>\n",
       "    <tr>\n",
       "      <th>Camden</th>\n",
       "      <td>101.0</td>\n",
       "      <td>227.0</td>\n",
       "      <td>1343.0</td>\n",
       "    </tr>\n",
       "    <tr>\n",
       "      <th>Birmingham</th>\n",
       "      <td>57.0</td>\n",
       "      <td>706.0</td>\n",
       "      <td>5402.0</td>\n",
       "    </tr>\n",
       "    <tr>\n",
       "      <th>City of London</th>\n",
       "      <td>45.0</td>\n",
       "      <td>81.0</td>\n",
       "      <td>509.0</td>\n",
       "    </tr>\n",
       "    <tr>\n",
       "      <th>Cornwall</th>\n",
       "      <td>43.0</td>\n",
       "      <td>255.0</td>\n",
       "      <td>2308.0</td>\n",
       "    </tr>\n",
       "    <tr>\n",
       "      <th>Wiltshire</th>\n",
       "      <td>43.0</td>\n",
       "      <td>314.0</td>\n",
       "      <td>1233.0</td>\n",
       "    </tr>\n",
       "    <tr>\n",
       "      <th>East Riding of Yorkshire</th>\n",
       "      <td>39.0</td>\n",
       "      <td>294.0</td>\n",
       "      <td>1225.0</td>\n",
       "    </tr>\n",
       "    <tr>\n",
       "      <th>Shropshire</th>\n",
       "      <td>38.0</td>\n",
       "      <td>168.0</td>\n",
       "      <td>1137.0</td>\n",
       "    </tr>\n",
       "    <tr>\n",
       "      <th>Leeds</th>\n",
       "      <td>38.0</td>\n",
       "      <td>531.0</td>\n",
       "      <td>3571.0</td>\n",
       "    </tr>\n",
       "    <tr>\n",
       "      <th>West Lindsey</th>\n",
       "      <td>30.0</td>\n",
       "      <td>99.0</td>\n",
       "      <td>506.0</td>\n",
       "    </tr>\n",
       "  </tbody>\n",
       "</table>\n",
       "</div>"
      ],
      "text/plain": [
       "Accident_Severity           Fatal  Serious  Slight\n",
       "Local_Authority_(District)                        \n",
       "Westminster                 189.0    387.0  2235.0\n",
       "Camden                      101.0    227.0  1343.0\n",
       "Birmingham                   57.0    706.0  5402.0\n",
       "City of London               45.0     81.0   509.0\n",
       "Cornwall                     43.0    255.0  2308.0\n",
       "Wiltshire                    43.0    314.0  1233.0\n",
       "East Riding of Yorkshire     39.0    294.0  1225.0\n",
       "Shropshire                   38.0    168.0  1137.0\n",
       "Leeds                        38.0    531.0  3571.0\n",
       "West Lindsey                 30.0     99.0   506.0"
      ]
     },
     "execution_count": 21,
     "metadata": {},
     "output_type": "execute_result"
    }
   ],
   "source": [
    "accident_df.groupby(['Local_Authority_(District)', 'Accident_Severity']).size().unstack().fillna(0).sort_values(by='Fatal', ascending=False).head(10)\n"
   ]
  },
  {
   "cell_type": "markdown",
   "id": "2a8fc56e",
   "metadata": {},
   "source": [
    " ### Severity vs Weather/Lighting"
   ]
  },
  {
   "cell_type": "code",
   "execution_count": 22,
   "id": "d2b93d9e",
   "metadata": {},
   "outputs": [
    {
     "data": {
      "application/vnd.microsoft.datawrangler.viewer.v0+json": {
       "columns": [
        {
         "name": "Light_Conditions",
         "rawType": "object",
         "type": "string"
        },
        {
         "name": "Fatal",
         "rawType": "int64",
         "type": "integer"
        },
        {
         "name": "Serious",
         "rawType": "int64",
         "type": "integer"
        },
        {
         "name": "Slight",
         "rawType": "int64",
         "type": "integer"
        }
       ],
       "ref": "756358ed-82c7-4102-ab4c-9ab6e9d34333",
       "rows": [
        [
         "Darkness - lighting unknown",
         "28",
         "357",
         "2539"
        ],
        [
         "Darkness - lights lit",
         "862",
         "8515",
         "50716"
        ],
        [
         "Darkness - lights unlit",
         "15",
         "146",
         "981"
        ],
        [
         "Darkness - no lighting",
         "649",
         "3078",
         "12801"
        ],
        [
         "Daylight",
         "2399",
         "28644",
         "196243"
        ]
       ],
       "shape": {
        "columns": 3,
        "rows": 5
       }
      },
      "text/html": [
       "<div>\n",
       "<style scoped>\n",
       "    .dataframe tbody tr th:only-of-type {\n",
       "        vertical-align: middle;\n",
       "    }\n",
       "\n",
       "    .dataframe tbody tr th {\n",
       "        vertical-align: top;\n",
       "    }\n",
       "\n",
       "    .dataframe thead th {\n",
       "        text-align: right;\n",
       "    }\n",
       "</style>\n",
       "<table border=\"1\" class=\"dataframe\">\n",
       "  <thead>\n",
       "    <tr style=\"text-align: right;\">\n",
       "      <th>Accident_Severity</th>\n",
       "      <th>Fatal</th>\n",
       "      <th>Serious</th>\n",
       "      <th>Slight</th>\n",
       "    </tr>\n",
       "    <tr>\n",
       "      <th>Light_Conditions</th>\n",
       "      <th></th>\n",
       "      <th></th>\n",
       "      <th></th>\n",
       "    </tr>\n",
       "  </thead>\n",
       "  <tbody>\n",
       "    <tr>\n",
       "      <th>Darkness - lighting unknown</th>\n",
       "      <td>28</td>\n",
       "      <td>357</td>\n",
       "      <td>2539</td>\n",
       "    </tr>\n",
       "    <tr>\n",
       "      <th>Darkness - lights lit</th>\n",
       "      <td>862</td>\n",
       "      <td>8515</td>\n",
       "      <td>50716</td>\n",
       "    </tr>\n",
       "    <tr>\n",
       "      <th>Darkness - lights unlit</th>\n",
       "      <td>15</td>\n",
       "      <td>146</td>\n",
       "      <td>981</td>\n",
       "    </tr>\n",
       "    <tr>\n",
       "      <th>Darkness - no lighting</th>\n",
       "      <td>649</td>\n",
       "      <td>3078</td>\n",
       "      <td>12801</td>\n",
       "    </tr>\n",
       "    <tr>\n",
       "      <th>Daylight</th>\n",
       "      <td>2399</td>\n",
       "      <td>28644</td>\n",
       "      <td>196243</td>\n",
       "    </tr>\n",
       "  </tbody>\n",
       "</table>\n",
       "</div>"
      ],
      "text/plain": [
       "Accident_Severity            Fatal  Serious  Slight\n",
       "Light_Conditions                                   \n",
       "Darkness - lighting unknown     28      357    2539\n",
       "Darkness - lights lit          862     8515   50716\n",
       "Darkness - lights unlit         15      146     981\n",
       "Darkness - no lighting         649     3078   12801\n",
       "Daylight                      2399    28644  196243"
      ]
     },
     "execution_count": 22,
     "metadata": {},
     "output_type": "execute_result"
    }
   ],
   "source": [
    "pd.crosstab(accident_df['Weather_Conditions'], accident_df['Accident_Severity'])\n",
    "pd.crosstab(accident_df['Light_Conditions'], accident_df['Accident_Severity'])\n"
   ]
  },
  {
   "cell_type": "markdown",
   "id": "c71449a5",
   "metadata": {},
   "source": [
    "### Weighted Severity Score"
   ]
  },
  {
   "cell_type": "code",
   "execution_count": 24,
   "id": "f17d02ee",
   "metadata": {},
   "outputs": [],
   "source": [
    "severity_weights = {'Fatal': 3, 'Serious': 2, 'Slight': 1}\n",
    "accident_df['Severity_Score'] = accident_df['Accident_Severity'].map(severity_weights)\n",
    "severity_by_location = accident_df.groupby('Local_Authority_(District)')['Severity_Score'].sum().sort_values(ascending=False)\n"
   ]
  },
  {
   "cell_type": "code",
   "execution_count": 26,
   "id": "9b55f19e",
   "metadata": {},
   "outputs": [
    {
     "data": {
      "application/vnd.microsoft.datawrangler.viewer.v0+json": {
       "columns": [
        {
         "name": "Local_Authority_(District)",
         "rawType": "object",
         "type": "string"
        },
        {
         "name": "Severity_Score",
         "rawType": "int64",
         "type": "integer"
        }
       ],
       "ref": "bdc9a45f-e4ff-4b9f-ab79-936f25c9238c",
       "rows": [
        [
         "Birmingham",
         "6985"
        ],
        [
         "Leeds",
         "4747"
        ],
        [
         "Westminster",
         "3576"
        ],
        [
         "Manchester",
         "3493"
        ],
        [
         "Bradford",
         "3423"
        ],
        [
         "Sheffield",
         "3107"
        ],
        [
         "Liverpool",
         "3028"
        ],
        [
         "Cornwall",
         "2947"
        ],
        [
         "Lambeth",
         "2567"
        ],
        [
         "County Durham",
         "2566"
        ],
        [
         "Barnet",
         "2566"
        ],
        [
         "Cheshire East",
         "2560"
        ],
        [
         "Bristol, City of",
         "2515"
        ],
        [
         "Kirklees",
         "2477"
        ],
        [
         "Southwark",
         "2278"
        ],
        [
         "Doncaster",
         "2227"
        ],
        [
         "Nottingham",
         "2215"
        ],
        [
         "Leicester",
         "2153"
        ],
        [
         "Camden",
         "2100"
        ],
        [
         "Brighton and Hove",
         "2079"
        ],
        [
         "Cheshire West and Chester",
         "2043"
        ],
        [
         "Croydon",
         "2015"
        ],
        [
         "Wiltshire",
         "1990"
        ],
        [
         "Ealing",
         "1978"
        ],
        [
         "Wakefield",
         "1966"
        ],
        [
         "Wandsworth",
         "1935"
        ],
        [
         "East Riding of Yorkshire",
         "1930"
        ],
        [
         "Northumberland",
         "1856"
        ],
        [
         "Lewisham",
         "1847"
        ],
        [
         "Tower Hamlets",
         "1835"
        ],
        [
         "Newcastle upon Tyne",
         "1823"
        ],
        [
         "Derby",
         "1817"
        ],
        [
         "Hackney",
         "1789"
        ],
        [
         "Sandwell",
         "1788"
        ],
        [
         "Enfield",
         "1780"
        ],
        [
         "Glasgow City",
         "1751"
        ],
        [
         "Cardiff",
         "1734"
        ],
        [
         "Hillingdon",
         "1725"
        ],
        [
         "Haringey",
         "1725"
        ],
        [
         "Newham",
         "1705"
        ],
        [
         "Kingston upon Hull, City of",
         "1692"
        ],
        [
         "Hounslow",
         "1692"
        ],
        [
         "Brent",
         "1681"
        ],
        [
         "Islington",
         "1633"
        ],
        [
         "Peterborough",
         "1622"
        ],
        [
         "Stoke-on-Trent",
         "1599"
        ],
        [
         "Sunderland",
         "1597"
        ],
        [
         "Bromley",
         "1591"
        ],
        [
         "Greenwich",
         "1590"
        ],
        [
         "Shropshire",
         "1587"
        ]
       ],
       "shape": {
        "columns": 1,
        "rows": 422
       }
      },
      "text/plain": [
       "Local_Authority_(District)\n",
       "Birmingham            6985\n",
       "Leeds                 4747\n",
       "Westminster           3576\n",
       "Manchester            3493\n",
       "Bradford              3423\n",
       "                      ... \n",
       "Clackmannanshire        27\n",
       "Alnwick                 25\n",
       "South Shropshire        20\n",
       "Teesdale                17\n",
       "Berwick-upon-Tweed      16\n",
       "Name: Severity_Score, Length: 422, dtype: int64"
      ]
     },
     "execution_count": 26,
     "metadata": {},
     "output_type": "execute_result"
    }
   ],
   "source": [
    "severity_by_location"
   ]
  }
 ],
 "metadata": {
  "kernelspec": {
   "display_name": "base",
   "language": "python",
   "name": "python3"
  },
  "language_info": {
   "codemirror_mode": {
    "name": "ipython",
    "version": 3
   },
   "file_extension": ".py",
   "mimetype": "text/x-python",
   "name": "python",
   "nbconvert_exporter": "python",
   "pygments_lexer": "ipython3",
   "version": "3.12.7"
  }
 },
 "nbformat": 4,
 "nbformat_minor": 5
}
